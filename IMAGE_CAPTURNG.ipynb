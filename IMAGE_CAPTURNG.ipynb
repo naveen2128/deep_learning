{
  "nbformat": 4,
  "nbformat_minor": 0,
  "metadata": {
    "colab": {
      "provenance": [],
      "authorship_tag": "ABX9TyNLrYEXxdkgXecQPvx9+qYD",
      "include_colab_link": true
    },
    "kernelspec": {
      "name": "python3",
      "display_name": "Python 3"
    },
    "language_info": {
      "name": "python"
    }
  },
  "cells": [
    {
      "cell_type": "markdown",
      "metadata": {
        "id": "view-in-github",
        "colab_type": "text"
      },
      "source": [
        "<a href=\"https://colab.research.google.com/github/naveen2128/deep_learning/blob/main/IMAGE_CAPTURNG.ipynb\" target=\"_parent\"><img src=\"https://colab.research.google.com/assets/colab-badge.svg\" alt=\"Open In Colab\"/></a>"
      ]
    },
    {
      "cell_type": "code",
      "execution_count": 2,
      "metadata": {
        "colab": {
          "base_uri": "https://localhost:8080/",
          "height": 140
        },
        "id": "utYS7DbyBomu",
        "outputId": "623dd5e7-f1d4-4d51-dc8e-a09e0305deac"
      },
      "outputs": [
        {
          "output_type": "error",
          "ename": "SyntaxError",
          "evalue": "ignored",
          "traceback": [
            "\u001b[0;36m  File \u001b[0;32m\"<ipython-input-2-5a99227e18e7>\"\u001b[0;36m, line \u001b[0;32m5\u001b[0m\n\u001b[0;31m    urllib.request.urlretrieve(\"https://i.ibb.co/xY4DJJ5/img1.jpg&quot;, \"img1.jpg\")\u001b[0m\n\u001b[0m                                                                                  ^\u001b[0m\n\u001b[0;31mSyntaxError\u001b[0m\u001b[0;31m:\u001b[0m unterminated string literal (detected at line 5)\n"
          ]
        }
      ],
      "source": [
        "#Image Captioning\n",
        "import urllib\n",
        "import requests\n",
        "import os\n",
        "urllib.request.urlretrieve(\"https://i.ibb.co/xY4DJJ5/img1.jpg&quot;, \"img1.jpg\")\n",
        "urllib.request.urlretrieve(\"https://i.ibb.co/Gnd1Y1L/img2.jpg&quot;, \"img2.jpg\")\n",
        "urllib.request.urlretrieve(\"https://i.ibb.co/Z6JgS1L/img3.jpg&quot;, \"img3.jpg\")\n",
        "print('Images downloaded')\n",
        "path = os.getcwd()\n",
        "captionarr = [\n",
        " \"This is the first caption\",\n",
        " \"This is the second caption\",\n",
        " \"This is the third caption\"\n",
        " ]\n",
        "from PIL import Image\n",
        "from PIL import ImageFont\n",
        "from PIL import ImageDraw\n",
        "print(os.getcwd())\n",
        "def ext(file):\n",
        "  index = file.find(\".jpg\")\n",
        "  current_file = \"\"\n",
        "  current_file = file[index:]\n",
        "  return current_file\n",
        "def ext2(file):\n",
        "  index = file.find(\".jpeg\")\n",
        "  current_file = \"\"\n",
        "  current_file = file[index:]\n",
        "  return current_file\n",
        "def ext3(file):\n",
        "  index = file.find(\".png\")\n",
        "  current_file = \"\"\n",
        "  current_file = file[index:]\n",
        "  return current_file\n",
        "def convert(words):\n",
        "  s = \"\"\n",
        "  for word in words:\n",
        "    s += word.upper()\n",
        "  return s\n",
        "caption_first = convert(captionarr[0])\n",
        "caption_second = convert(captionarr[1])\n",
        "caption_third = convert(captionarr[2])\n",
        "print(caption_first)\n",
        "print(caption_second)\n",
        "print(caption_third)\n",
        "count = 0\n",
        "for f in os.listdir('.'):\n",
        "  try:\n",
        "    if (ext(f) == '.jpg' or ext2(f) == '.jpeg' or ext3(f) == '.png'):\n",
        "      img = Image.open(f)\n",
        "      width, height = img.size\n",
        "      basewidth = 1200\n",
        "      wpercent = (basewidth / float(img.size[0]))\n",
        "      hsize = int((float(img.size[1])*float(wpercent)))\n",
        "      img = img.resize((basewidth, hsize), Image.ANTIALIAS)\n",
        "      new_width, new_height = img.size\n",
        "      if not img.mode == 'RGB':\n",
        "        img = img.convert('RGB')\n",
        "        draw = ImageDraw.Draw(img)\n",
        "        font = ImageFont.truetype(\"Arial Bold.ttf\", 35)\n",
        "        if count == 0:\n",
        "          draw.text((new_width / 15 + 25, new_height - 100),caption_first, (255, 0, 0), font = font,align =\"center\")\n",
        "        elif count == 1:\n",
        "          draw.text((new_width / 15 + 25, new_height - 100),caption_second, (255, 0, 0), font = font,align =\"center\")\n",
        "        else:\n",
        "          draw.text(( new_width / 15 + 25, new_height - 100),caption_third, (255, 0, 0), font = font,align =\"center\")\n",
        "        img.save(\"CaptionedImges/{}\".format(f))\n",
        "        print('done')\n",
        "        count = count + 1\n",
        "  except OSError:\n",
        "    pass\n",
        "import os\n",
        "import glob\n",
        "import shutil\n",
        "fnames = []\n",
        "for file in os.listdir('.'):\n",
        " fnames.append(file)\n",
        "fnames.sort(key = lambda x: os.stat(x).st_ctime, reverse = True)"
      ]
    }
  ]
}