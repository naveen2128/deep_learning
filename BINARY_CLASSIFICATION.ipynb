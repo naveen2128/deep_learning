{
  "nbformat": 4,
  "nbformat_minor": 0,
  "metadata": {
    "colab": {
      "provenance": [],
      "authorship_tag": "ABX9TyNSCF5Av7AVBA/MGbQik4Bf",
      "include_colab_link": true
    },
    "kernelspec": {
      "name": "python3",
      "display_name": "Python 3"
    },
    "language_info": {
      "name": "python"
    }
  },
  "cells": [
    {
      "cell_type": "markdown",
      "metadata": {
        "id": "view-in-github",
        "colab_type": "text"
      },
      "source": [
        "<a href=\"https://colab.research.google.com/github/naveen2128/deep_learning/blob/main/BINARY_CLASSIFICATION.ipynb\" target=\"_parent\"><img src=\"https://colab.research.google.com/assets/colab-badge.svg\" alt=\"Open In Colab\"/></a>"
      ]
    },
    {
      "cell_type": "code",
      "execution_count": 1,
      "metadata": {
        "colab": {
          "base_uri": "https://localhost:8080/"
        },
        "id": "CHB3dYHr5-sl",
        "outputId": "6f65ed65-fdb3-4364-99e3-54488af36e32"
      },
      "outputs": [
        {
          "output_type": "stream",
          "name": "stdout",
          "text": [
            "Epoch 1/10\n",
            "20/20 [==============================] - 3s 36ms/step - loss: 0.6605 - accuracy: 0.5063 - val_loss: 0.6319 - val_accuracy: 0.5938\n",
            "Epoch 2/10\n",
            "20/20 [==============================] - 0s 10ms/step - loss: 0.6406 - accuracy: 0.5562 - val_loss: 0.6112 - val_accuracy: 0.6313\n",
            "Epoch 3/10\n",
            "20/20 [==============================] - 0s 16ms/step - loss: 0.6231 - accuracy: 0.5906 - val_loss: 0.5925 - val_accuracy: 0.6500\n",
            "Epoch 4/10\n",
            "20/20 [==============================] - 0s 7ms/step - loss: 0.6062 - accuracy: 0.6281 - val_loss: 0.5753 - val_accuracy: 0.6750\n",
            "Epoch 5/10\n",
            "20/20 [==============================] - 0s 17ms/step - loss: 0.5876 - accuracy: 0.6891 - val_loss: 0.5600 - val_accuracy: 0.7063\n",
            "Epoch 6/10\n",
            "20/20 [==============================] - 0s 8ms/step - loss: 0.5686 - accuracy: 0.7469 - val_loss: 0.5418 - val_accuracy: 0.7688\n",
            "Epoch 7/10\n",
            "20/20 [==============================] - 0s 12ms/step - loss: 0.5479 - accuracy: 0.7750 - val_loss: 0.5220 - val_accuracy: 0.8062\n",
            "Epoch 8/10\n",
            "20/20 [==============================] - 0s 11ms/step - loss: 0.5266 - accuracy: 0.8094 - val_loss: 0.5030 - val_accuracy: 0.8500\n",
            "Epoch 9/10\n",
            "20/20 [==============================] - 0s 11ms/step - loss: 0.5033 - accuracy: 0.8359 - val_loss: 0.4798 - val_accuracy: 0.8750\n",
            "Epoch 10/10\n",
            "20/20 [==============================] - 0s 7ms/step - loss: 0.4802 - accuracy: 0.8266 - val_loss: 0.4561 - val_accuracy: 0.8875\n",
            "7/7 [==============================] - 0s 4ms/step\n",
            "Test accuracy: 0.8400\n"
          ]
        }
      ],
      "source": [
        "import numpy as np\n",
        "import tensorflow as tf\n",
        "from tensorflow.keras.models import Sequential\n",
        "from tensorflow.keras.layers import Dense,Input\n",
        "from sklearn.model_selection import train_test_split\n",
        "from sklearn.metrics import accuracy_score\n",
        "np.random.seed(42)\n",
        "X = np.random.rand(1000, 2)\n",
        "y = (X[:, 0] + X[:, 1] > 1).astype(int)\n",
        "X_train, X_test, y_train, y_test = train_test_split(X, y, test_size=0.2, random_state=42)\n",
        "model = Sequential([Input(shape=(2)),Dense(64, activation='relu'),Dense(1, activation='sigmoid')])\n",
        "model.compile(optimizer='adam',loss='binary_crossentropy',metrics=['accuracy'])\n",
        "model.fit(X_train, y_train, epochs=10, batch_size=32, validation_split=0.2)\n",
        "y_pred = model.predict(X_test)\n",
        "y_pred_binary = (y_pred > 0.5).astype(int)\n",
        "test_accuracy = accuracy_score(y_test, y_pred_binary)\n",
        "print(f\"Test accuracy: {test_accuracy:.4f}\")"
      ]
    }
  ]
}