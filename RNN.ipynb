{
  "nbformat": 4,
  "nbformat_minor": 0,
  "metadata": {
    "colab": {
      "provenance": [],
      "authorship_tag": "ABX9TyMro9dWdgjJyC4H4Zj4cLTn",
      "include_colab_link": true
    },
    "kernelspec": {
      "name": "python3",
      "display_name": "Python 3"
    },
    "language_info": {
      "name": "python"
    }
  },
  "cells": [
    {
      "cell_type": "markdown",
      "metadata": {
        "id": "view-in-github",
        "colab_type": "text"
      },
      "source": [
        "<a href=\"https://colab.research.google.com/github/naveen2128/deep_learning/blob/main/RNN.ipynb\" target=\"_parent\"><img src=\"https://colab.research.google.com/assets/colab-badge.svg\" alt=\"Open In Colab\"/></a>"
      ]
    },
    {
      "cell_type": "code",
      "execution_count": 1,
      "metadata": {
        "colab": {
          "base_uri": "https://localhost:8080/"
        },
        "id": "416liB6TA-8V",
        "outputId": "016ae690-1085-4de8-a8e5-9fcc2825d70a"
      },
      "outputs": [
        {
          "output_type": "stream",
          "name": "stdout",
          "text": [
            "Epoch 1/10\n",
            "4/4 [==============================] - 2s 10ms/step - loss: 1.4325\n",
            "Epoch 2/10\n",
            "4/4 [==============================] - 0s 8ms/step - loss: 1.2856\n",
            "Epoch 3/10\n",
            "4/4 [==============================] - 0s 7ms/step - loss: 1.2069\n",
            "Epoch 4/10\n",
            "4/4 [==============================] - 0s 9ms/step - loss: 1.1547\n",
            "Epoch 5/10\n",
            "4/4 [==============================] - 0s 7ms/step - loss: 1.1194\n",
            "Epoch 6/10\n",
            "4/4 [==============================] - 0s 6ms/step - loss: 1.1081\n",
            "Epoch 7/10\n",
            "4/4 [==============================] - 0s 6ms/step - loss: 1.1058\n",
            "Epoch 8/10\n",
            "4/4 [==============================] - 0s 8ms/step - loss: 1.0984\n",
            "Epoch 9/10\n",
            "4/4 [==============================] - 0s 7ms/step - loss: 1.0917\n",
            "Epoch 10/10\n",
            "4/4 [==============================] - 0s 6ms/step - loss: 1.0820\n",
            "1/1 [==============================] - 0s 419ms/step - loss: 2.0243\n"
          ]
        },
        {
          "output_type": "execute_result",
          "data": {
            "text/plain": [
              "2.0243124961853027"
            ]
          },
          "metadata": {},
          "execution_count": 1
        }
      ],
      "source": [
        "import numpy as np\n",
        "import tensorflow as tf\n",
        "from tensorflow import keras\n",
        "model = keras.Sequential([keras.layers.SimpleRNN(32, input_shape=(10,1)),keras.layers.Dense(1)])\n",
        "model.compile(optimizer='adam', loss='mse')\n",
        "X_train = np.random.randn(100, 10, 1)\n",
        "y_train = np.random.randn(100, 1)\n",
        "model.fit(X_train, y_train, epochs=10, batch_size=32)\n",
        "X_test = np.random.randn(10, 10, 1)\n",
        "y_test = np.random.randn(10, 1)\n",
        "model.evaluate(X_test, y_test)"
      ]
    }
  ]
}